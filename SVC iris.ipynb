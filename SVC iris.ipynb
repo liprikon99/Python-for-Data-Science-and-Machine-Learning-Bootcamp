{
 "cells": [
  {
   "cell_type": "code",
   "execution_count": 1,
   "id": "8948cdee",
   "metadata": {},
   "outputs": [],
   "source": [
    "import pandas as pd\n",
    "import numpy as np\n",
    "import matplotlib.pyplot as plt\n",
    "import seaborn as sns\n",
    "%matplotlib inline"
   ]
  },
  {
   "cell_type": "code",
   "execution_count": 2,
   "id": "c18b8fcd",
   "metadata": {},
   "outputs": [],
   "source": [
    "from sklearn import svm, datasets"
   ]
  },
  {
   "cell_type": "code",
   "execution_count": 3,
   "id": "59228484",
   "metadata": {},
   "outputs": [],
   "source": [
    "from sklearn.model_selection import train_test_split, GridSearchCV"
   ]
  },
  {
   "cell_type": "code",
   "execution_count": 4,
   "id": "d87665b1",
   "metadata": {},
   "outputs": [],
   "source": [
    "iris = datasets.load_iris()"
   ]
  },
  {
   "cell_type": "code",
   "execution_count": 5,
   "id": "7f9e6d9e",
   "metadata": {},
   "outputs": [
    {
     "data": {
      "text/plain": [
       "dict_keys(['data', 'target', 'frame', 'target_names', 'DESCR', 'feature_names', 'filename'])"
      ]
     },
     "execution_count": 5,
     "metadata": {},
     "output_type": "execute_result"
    }
   ],
   "source": [
    "iris.keys()"
   ]
  },
  {
   "cell_type": "code",
   "execution_count": 6,
   "id": "a682047e",
   "metadata": {},
   "outputs": [],
   "source": [
    "df = pd.DataFrame(iris['data'], columns=iris['feature_names'])"
   ]
  },
  {
   "cell_type": "code",
   "execution_count": 7,
   "id": "ddcb3977",
   "metadata": {},
   "outputs": [],
   "source": [
    "X = df\n",
    "y = iris['target']"
   ]
  },
  {
   "cell_type": "code",
   "execution_count": 8,
   "id": "3438561a",
   "metadata": {},
   "outputs": [],
   "source": [
    "X_train, X_test, y_train, y_test = train_test_split(X, y, test_size=0.3, random_state=101)"
   ]
  },
  {
   "cell_type": "code",
   "execution_count": 11,
   "id": "99466e80",
   "metadata": {},
   "outputs": [],
   "source": [
    "model = svm.SVC().fit(X_train, y_train)"
   ]
  },
  {
   "cell_type": "code",
   "execution_count": 12,
   "id": "546f47ad",
   "metadata": {},
   "outputs": [],
   "source": [
    "predictions = model.predict(X_test)"
   ]
  },
  {
   "cell_type": "code",
   "execution_count": 13,
   "id": "5d630731",
   "metadata": {},
   "outputs": [],
   "source": [
    "from sklearn import metrics"
   ]
  },
  {
   "cell_type": "code",
   "execution_count": 14,
   "id": "cd3890ee",
   "metadata": {},
   "outputs": [
    {
     "name": "stdout",
     "output_type": "stream",
     "text": [
      "              precision    recall  f1-score   support\n",
      "\n",
      "           0       1.00      1.00      1.00        13\n",
      "           1       1.00      0.95      0.97        20\n",
      "           2       0.92      1.00      0.96        12\n",
      "\n",
      "    accuracy                           0.98        45\n",
      "   macro avg       0.97      0.98      0.98        45\n",
      "weighted avg       0.98      0.98      0.98        45\n",
      "\n",
      "[[13  0  0]\n",
      " [ 0 19  1]\n",
      " [ 0  0 12]]\n"
     ]
    }
   ],
   "source": [
    "print(metrics.classification_report(y_test, predictions))\n",
    "print(metrics.confusion_matrix(y_test, predictions))"
   ]
  },
  {
   "cell_type": "code",
   "execution_count": 18,
   "id": "a93c2249",
   "metadata": {},
   "outputs": [],
   "source": [
    "grid_param = {'C':[0.1, 1, 10, 100, 1000], 'gamma':[1, 0.1, 0.01, 0.001, 0.0001]}"
   ]
  },
  {
   "cell_type": "code",
   "execution_count": 19,
   "id": "40fd0217",
   "metadata": {},
   "outputs": [],
   "source": [
    "grid = GridSearchCV(svm.SVC(), grid_param)"
   ]
  },
  {
   "cell_type": "code",
   "execution_count": 21,
   "id": "dcd3ab9e",
   "metadata": {},
   "outputs": [
    {
     "data": {
      "text/plain": [
       "GridSearchCV(estimator=SVC(),\n",
       "             param_grid={'C': [0.1, 1, 10, 100, 1000],\n",
       "                         'gamma': [1, 0.1, 0.01, 0.001, 0.0001]})"
      ]
     },
     "execution_count": 21,
     "metadata": {},
     "output_type": "execute_result"
    }
   ],
   "source": [
    "grid.fit(X_train, y_train)"
   ]
  },
  {
   "cell_type": "code",
   "execution_count": 22,
   "id": "53b2c56a",
   "metadata": {},
   "outputs": [],
   "source": [
    "grid_pred = grid.predict(X_test)"
   ]
  },
  {
   "cell_type": "code",
   "execution_count": 23,
   "id": "5e0a7d81",
   "metadata": {},
   "outputs": [
    {
     "name": "stdout",
     "output_type": "stream",
     "text": [
      "              precision    recall  f1-score   support\n",
      "\n",
      "           0       1.00      1.00      1.00        13\n",
      "           1       1.00      0.95      0.97        20\n",
      "           2       0.92      1.00      0.96        12\n",
      "\n",
      "    accuracy                           0.98        45\n",
      "   macro avg       0.97      0.98      0.98        45\n",
      "weighted avg       0.98      0.98      0.98        45\n",
      "\n",
      "[[13  0  0]\n",
      " [ 0 19  1]\n",
      " [ 0  0 12]]\n"
     ]
    }
   ],
   "source": [
    "print(metrics.classification_report(y_test, grid_pred))\n",
    "print(metrics.confusion_matrix(y_test, grid_pred))"
   ]
  },
  {
   "cell_type": "code",
   "execution_count": null,
   "id": "471de9b0",
   "metadata": {},
   "outputs": [],
   "source": []
  }
 ],
 "metadata": {
  "kernelspec": {
   "display_name": "Python 3 (ipykernel)",
   "language": "python",
   "name": "python3"
  },
  "language_info": {
   "codemirror_mode": {
    "name": "ipython",
    "version": 3
   },
   "file_extension": ".py",
   "mimetype": "text/x-python",
   "name": "python",
   "nbconvert_exporter": "python",
   "pygments_lexer": "ipython3",
   "version": "3.9.7"
  }
 },
 "nbformat": 4,
 "nbformat_minor": 5
}
